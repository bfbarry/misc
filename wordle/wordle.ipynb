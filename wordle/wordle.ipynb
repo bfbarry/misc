{
 "cells": [
  {
   "cell_type": "code",
   "execution_count": 1,
   "metadata": {
    "execution": {
     "iopub.execute_input": "2022-01-24T22:48:37.308972Z",
     "iopub.status.busy": "2022-01-24T22:48:37.308385Z",
     "iopub.status.idle": "2022-01-24T22:48:37.359949Z",
     "shell.execute_reply": "2022-01-24T22:48:37.356283Z",
     "shell.execute_reply.started": "2022-01-24T22:48:37.308894Z"
    }
   },
   "outputs": [],
   "source": [
    "## Not great, has names\n",
    "\n",
    "with open('words.txt', 'r') as f:\n",
    "    allwords = f.read().split()"
   ]
  },
  {
   "cell_type": "code",
   "execution_count": 73,
   "metadata": {
    "execution": {
     "iopub.execute_input": "2022-01-24T23:22:59.690001Z",
     "iopub.status.busy": "2022-01-24T23:22:59.689455Z",
     "iopub.status.idle": "2022-01-24T23:22:59.739962Z",
     "shell.execute_reply": "2022-01-24T23:22:59.737138Z",
     "shell.execute_reply.started": "2022-01-24T23:22:59.689923Z"
    }
   },
   "outputs": [],
   "source": [
    "import numpy as np\n",
    "\n",
    "ALLCAPS = {l:u for (l,u) in zip('abcdefghijklmnopqrstuvwxyz', 'ABCDEFGHIJKLMNOPQRSTUVWXYZ')}\n",
    "\n",
    "## BASIC HELPER FUNC\n",
    "def chunks(w):\n",
    "    return [e for e in w]\n",
    "\n",
    "def compare(w1, w2):\n",
    "    \"\"\"First round of comparing: positional comparison\"\"\"\n",
    "    return [a==b for (a,b) in zip(w1, w2)]\n",
    "\n",
    "def count_c(c, w):\n",
    "    \"\"\"counts characters in w (can be list or str)\"\"\"\n",
    "    return len([e for e in w if e==c])\n",
    "\n",
    "def has_valid_char(word, char_bank):\n",
    "    \"\"\"Check if word has chars found in char_bank\"\"\"\n",
    "    return len(set(word) - char_bank) == 0\n",
    "\n",
    "def is_unordered_sublist(sub, super_):\n",
    "    \"\"\"check if sub is contained in super_\"\"\"\n",
    "    bools = []\n",
    "    for c in set(sub):\n",
    "        if c in super_ and count_c(c, sub) == count_c(c, super_):\n",
    "            bools.append(1)\n",
    "        else:\n",
    "            bools.append(0)\n",
    "            \n",
    "    return 0 not in bools\n",
    "\n",
    "## INFO THEORY\n",
    "def entropy(word):\n",
    "    prob_log_prob = []\n",
    "    for c in set(word):\n",
    "        p = count_c(c, word)/len(word)\n",
    "        prob_log_prob.append(p*np.log(p))\n",
    "    return -sum(prob_log_prob)\n",
    "\n",
    "## CLASSES\n",
    "class Wordle:\n",
    "    \"\"\"class to simulate Wordle\"\"\"\n",
    "    def __init__(self, word):\n",
    "        self.word = word\n",
    "        self.length = len(word)\n",
    "        self.history = []\n",
    "        self.solved = False\n",
    "    \n",
    "    def show_flags(self, guess, flags):\n",
    "        \"\"\"print guess along with its flags side by side\"\"\"\n",
    "        for c in guess:\n",
    "                print(ALLCAPS[c], '', end='')\n",
    "        print('\\n')\n",
    "        for f in flags:\n",
    "            print(f, '', end='')\n",
    "    \n",
    "    def verify(self, guess):\n",
    "        # include try/catch to make sure green letters are there? (not in game)\n",
    "        flags = []\n",
    "        c_encounter = {c:count_c(c, self.word) for c in set(self.word)}\n",
    "        if guess == self.word:\n",
    "            print('correct!')\n",
    "            flags = ['+' for i in range(self.length)]\n",
    "            self.solved = True\n",
    "            return\n",
    "        word2word = compare(guess, self.word)\n",
    "        for ix, b in enumerate(word2word):\n",
    "            char = guess[ix]\n",
    "            ## GREEN right character, right position\n",
    "            if b:\n",
    "                flags.append('+') #green\n",
    "                c_encounter[char] -= 1\n",
    "            else:\n",
    "                ## YELLOW right character, wrong position\n",
    "                ## accounts for character count. e.g., if character count of 1\n",
    "                ## and shown yellow flag, should be gray on its next encounter in the guess word\n",
    "                if char in self.word and c_encounter[char] > 0: \n",
    "                    flags.append('!') #yellow\n",
    "                    c_encounter[char] -= 1\n",
    "                ## GRAY no such character\n",
    "                else:\n",
    "                    flags.append('-')\n",
    "        \n",
    "        self.history.append(flags)\n",
    "        self.show_flags(guess, flags)\n",
    "        return flags\n",
    "    \n",
    "class WordleInference:\n",
    "    \"\"\"Contains features/inference data\"\"\"\n",
    "    def __init__(self, length, word_bank):\n",
    "        self.optimal = ['_' for i in range(length)] # fixes green letters\n",
    "        self.word_bank = word_bank\n",
    "        self.priority_char = [] #accounts for repeated char (hence a list)\n",
    "        self.char_bank = {c for c in 'abcdefghijklmnopqrstuvwxyz'}\n",
    "        self.null_opt = ''.join(self.optimal) # _____\n",
    "        \n",
    "    def update_priors(self, guess, flags):\n",
    "        # theoretically like gradient descent\n",
    "#         print(100, guess)\n",
    "        for ix, (c, f) in enumerate(zip(guess, flags)):\n",
    "            if f == '+': # Green\n",
    "                self.optimal[ix] = c\n",
    "            elif f == '!': # Yellow\n",
    "                self.priority_char.append(c)\n",
    "            elif f == '-' and c not in self.priority_char: # Gray\n",
    "                try:\n",
    "                    self.char_bank.remove(c)\n",
    "                except KeyError: # for duplicate absent letters\n",
    "                    pass\n",
    "    \n",
    "## commenting out word bank removal since it seems to converge to qquickly\n",
    "    def next_guess(self):\n",
    "        candidates = []\n",
    "        for w in word_bank:\n",
    "            # Make sure no \"gray\"  letters\n",
    "#             print(113, w)\n",
    "            if not has_valid_char(w, self.char_bank):\n",
    "                if w == 'crimp':\n",
    "                    print('çorrect word removed', self.char_bank)\n",
    "                self.word_bank.remove(w)\n",
    "                continue\n",
    "            if not is_unordered_sublist(self.priority_char, w):\n",
    "                self.word_bank.remove(w)\n",
    "                continue\n",
    "            if self.optimal != self.null_opt:\n",
    "                # compare these two variables to decide if candidate\n",
    "                fixed_char_count = 0\n",
    "                w_sim_count = 0 \n",
    "                for ix, c in enumerate(self.optimal):\n",
    "                    if c == '+':\n",
    "                        fixed_char_count += 1\n",
    "                        if w[ix] == c:\n",
    "                            w_sim_count += 1\n",
    "                if fixed_char_count == w_sim_count:\n",
    "                    candidates.append(w)\n",
    "                else:\n",
    "                    self.word_bank.remove(w)\n",
    "        print(137, len(candidates))\n",
    "        if len(candidates) == 0:\n",
    "            print(self.word_bank)\n",
    "        return candidates[np.argmax([entropy(w) for w in candidates])] "
   ]
  },
  {
   "cell_type": "code",
   "execution_count": 3,
   "metadata": {
    "execution": {
     "iopub.execute_input": "2022-01-24T22:48:41.439498Z",
     "iopub.status.busy": "2022-01-24T22:48:41.438658Z",
     "iopub.status.idle": "2022-01-24T22:48:41.499535Z",
     "shell.execute_reply": "2022-01-24T22:48:41.489574Z",
     "shell.execute_reply.started": "2022-01-24T22:48:41.439418Z"
    }
   },
   "outputs": [
    {
     "name": "stdout",
     "output_type": "stream",
     "text": [
      "F I L N I \n",
      "\n",
      "- ! - - - "
     ]
    },
    {
     "data": {
      "text/plain": [
       "['-', '!', '-', '-', '-']"
      ]
     },
     "execution_count": 3,
     "metadata": {},
     "output_type": "execute_result"
    }
   ],
   "source": [
    "word = 'crimp'\n",
    "x = Wordle(word)\n",
    "x.verify('filni')"
   ]
  },
  {
   "cell_type": "markdown",
   "metadata": {},
   "source": [
    "# algorithm\n",
    "\n",
    "1. start with n-letter word with highest entropy\n",
    "2. if green, fix position\n",
    "3. if yellow, switch position\n",
    "\n",
    "Data science questions:\n",
    "- are there any words for which it is very hard for this algorithm (or human) to guess within 6 tries?"
   ]
  },
  {
   "cell_type": "code",
   "execution_count": 74,
   "metadata": {
    "execution": {
     "iopub.execute_input": "2022-01-24T23:23:02.306585Z",
     "iopub.status.busy": "2022-01-24T23:23:02.305955Z",
     "iopub.status.idle": "2022-01-24T23:23:03.134681Z",
     "shell.execute_reply": "2022-01-24T23:23:03.128446Z",
     "shell.execute_reply.started": "2022-01-24T23:23:02.306516Z"
    }
   },
   "outputs": [
    {
     "name": "stdout",
     "output_type": "stream",
     "text": [
      "\n",
      "guess 1\n",
      "B A T H S \n",
      "\n",
      "- - - - - 137 545\n",
      "\n",
      "guess 2\n",
      "M O L D Y \n",
      "\n",
      "! - - - - 137 12\n",
      "\n",
      "guess 3\n",
      "G R I M E \n",
      "\n",
      "- + + + - 137 2\n",
      "\n",
      "guess 4\n",
      "P U R I M \n",
      "\n",
      "! - ! ! ! 137 0\n",
      "['waldo', 'edges', 'bombs', 'polyp', 'overt', 'peeve', 'croak', 'chins', 'graph', 'leads', 'poole', 'boozy', 'slued', 'prick', 'merge', 'loots', 'swath', 'renee', 'gimps', 'leaks', 'evict', 'flint', 'horns', 'sauna', 'plies', 'sowed', 'firth', 'holes', 'ellis', 'loved', 'sakes', 'defoe', 'daces', 'silts', 'salus', 'birch', 'least', 'rigor', 'drill', 'stone', 'clasp', 'fetch', 'korea', 'lulls', 'ditty', 'yolky', 'point', 'limey', 'saves', 'joint', 'based', 'guilt', 'clack', 'canoe', 'chair', 'navvy', 'junks', 'basil', 'wicks', 'brake', 'nouns', 'gouda', 'upend', 'basks', 'lumen', 'guile', 'viler', 'folly', 'enure', 'moist', 'unsex', 'noted', 'ruing', 'mises', 'aging', 'sooty', 'plant', 'recta', 'voids', 'mimed', 'tzars', 'cairn', 'lotus', 'vying', 'dwyer', 'zaire', 'foggy', 'talky', 'canny', 'buggy', 'solar', 'cacti', 'mince', 'mooed', 'eagle', 'japed', 'peony', 'hinge', 'metro', 'blurs', 'glenn', 'molly', 'growl', 'order', 'pints', 'frays', 'moony', 'musts', 'buxom', 'known', 'acids', 'midge', 'bulks', 'actus', 'prods', 'feint', 'boles', 'worry', 'pixel', 'amass', 'pinky', 'lanky', 'hydra', 'nonce', 'grips', 'pixie', 'wizen', 'bides', 'lasts', 'picot', 'laura', 'dames', 'agnes', 'rejig', 'agree', 'polls', 'resat', 'drupe', 'ridge', 'sinks', 'taste', 'somas', 'sheds', 'windy', 'naiad', 'prows', 'lacta', 'semen', 'dairy', 'oiler', 'omaha', 'faire', 'leroy', 'wolds', 'twits', 'adept', 'studs', 'renew', 'singe', 'gazes', 'spore', 'robes', 'began', 'junes', 'decoy', 'place', 'amine', 'romeo', 'stilt', 'cooks', 'recht', 'villa', 'pupae', 'chess', 'strum', 'pinch', 'hough', 'hitch', 'balmy', 'coyer', 'nerve', 'telex', 'junco', 'ruler', 'vowel', 'yodel', 'sabot', 'tibia', 'hares', 'cohen', 'bacup', 'proof', 'tykes', 'shape', 'poser', 'flyby', 'jacob', 'neigh', 'capax', 'lurid', 'faxes', 'ibiza', 'worst', 'haply', 'wedge', 'negev', 'byron', 'endue', 'level', 'loins', 'shell', 'raise', 'bidet', 'palls', 'meows', 'chest', 'niece', 'grump', 'tipsy', 'kudzu', 'lambs', 'cases', 'sacks', 'gusts', 'pouts', 'lyric', 'diane', 'crumb', 'wally', 'older', 'litem', 'retro', 'ernie', 'abhor', 'scire', 'bleta', 'novel', 'skids', 'boggy', 'spats', 'moron', 'whams', 'fries', 'short', 'usury', 'piper', 'motor', 'merry', 'taffy', 'crewe', 'debet', 'dills', 'longs', 'prime', 'helga', 'blood', 'lance', 'laugh', 'igloo', 'paris', 'minas', 'wiper', 'learn', 'nudum', 'agios', 'perky', 'plods', 'purls', 'lupus', 'trios', 'heirs', 'brave', 'argot', 'cobra', 'wanes', 'cokes', 'scamp', 'judge', 'riser', 'skein', 'hunks', 'nooks', 'inlet', 'puppy', 'fauns', 'scale', 'prude', 'toots', 'built', 'drunk', 'ripon', 'bruin', 'homey', 'durum', 'farad', 'ruffs', 'guyed', 'ruses', 'laird', 'irene', 'topes', 'tumor', 'tasty', 'affix', 'baker', 'quire', 'jurat', 'novum', 'udder', 'amish', 'curat', 'mouse', 'nylon', 'scots', 'witco', 'cynic', 'yalta', 'elude', 'wilts', 'gawks', 'barks', 'enjoy', 'clone', 'multi', 'gazer', 'envoy', 'blond', 'along', 'razed', 'great', 'pylon', 'elise', 'bruce', 'lowed', 'welts', 'faces', 'levin', 'pipes', 'reign', 'caber', 'edits', 'craft', 'somme', 'flyer', 'sawed', 'weird', 'plink', 'crete', 'flaky', 'motel', 'fully', 'haves', 'hinds', 'clash', 'reran', 'scrum', 'aleck', 'prize', 'turfs', 'enemy', 'smear', 'euros', 'olive', 'cheap', 'stubs', 'milan', 'block', 'cones', 'trier', 'fried', 'cooed', 'tacky', 'eased', 'picks', 'cycle', 'gawky', 'cured', 'purim', 'queue', 'sixes', 'blush', 'festa', 'dicky', 'quids', 'hails', 'saxon', 'rorer', 'gully', 'slugs', 'imply', 'quare', 'acted', 'sinus', 'clump', 'furry', 'dully', 'froze', 'cymru']\n"
     ]
    },
    {
     "ename": "ValueError",
     "evalue": "attempt to get argmax of an empty sequence",
     "output_type": "error",
     "traceback": [
      "\u001b[0;31m---------------------------------------------------------------------------\u001b[0m",
      "\u001b[0;31mValueError\u001b[0m                                Traceback (most recent call last)",
      "\u001b[0;32m<ipython-input-74-31ab173021f3>\u001b[0m in \u001b[0;36m<module>\u001b[0;34m\u001b[0m\n\u001b[1;32m     14\u001b[0m \u001b[0;34m\u001b[0m\u001b[0m\n\u001b[1;32m     15\u001b[0m     \u001b[0minferer\u001b[0m\u001b[0;34m.\u001b[0m\u001b[0mupdate_priors\u001b[0m\u001b[0;34m(\u001b[0m\u001b[0mguess\u001b[0m\u001b[0;34m,\u001b[0m \u001b[0mflags\u001b[0m\u001b[0;34m)\u001b[0m\u001b[0;34m\u001b[0m\u001b[0;34m\u001b[0m\u001b[0m\n\u001b[0;32m---> 16\u001b[0;31m     \u001b[0mguess\u001b[0m \u001b[0;34m=\u001b[0m \u001b[0minferer\u001b[0m\u001b[0;34m.\u001b[0m\u001b[0mnext_guess\u001b[0m\u001b[0;34m(\u001b[0m\u001b[0;34m)\u001b[0m\u001b[0;34m\u001b[0m\u001b[0;34m\u001b[0m\u001b[0m\n\u001b[0m",
      "\u001b[0;32m<ipython-input-73-99fd81afe5ed>\u001b[0m in \u001b[0;36mnext_guess\u001b[0;34m(self)\u001b[0m\n\u001b[1;32m    139\u001b[0m         \u001b[0;32mif\u001b[0m \u001b[0mlen\u001b[0m\u001b[0;34m(\u001b[0m\u001b[0mcandidates\u001b[0m\u001b[0;34m)\u001b[0m \u001b[0;34m==\u001b[0m \u001b[0;36m0\u001b[0m\u001b[0;34m:\u001b[0m\u001b[0;34m\u001b[0m\u001b[0;34m\u001b[0m\u001b[0m\n\u001b[1;32m    140\u001b[0m             \u001b[0mprint\u001b[0m\u001b[0;34m(\u001b[0m\u001b[0mself\u001b[0m\u001b[0;34m.\u001b[0m\u001b[0mword_bank\u001b[0m\u001b[0;34m)\u001b[0m\u001b[0;34m\u001b[0m\u001b[0;34m\u001b[0m\u001b[0m\n\u001b[0;32m--> 141\u001b[0;31m         \u001b[0;32mreturn\u001b[0m \u001b[0mcandidates\u001b[0m\u001b[0;34m[\u001b[0m\u001b[0mnp\u001b[0m\u001b[0;34m.\u001b[0m\u001b[0margmax\u001b[0m\u001b[0;34m(\u001b[0m\u001b[0;34m[\u001b[0m\u001b[0mentropy\u001b[0m\u001b[0;34m(\u001b[0m\u001b[0mw\u001b[0m\u001b[0;34m)\u001b[0m \u001b[0;32mfor\u001b[0m \u001b[0mw\u001b[0m \u001b[0;32min\u001b[0m \u001b[0mcandidates\u001b[0m\u001b[0;34m]\u001b[0m\u001b[0;34m)\u001b[0m\u001b[0;34m]\u001b[0m\u001b[0;34m\u001b[0m\u001b[0;34m\u001b[0m\u001b[0m\n\u001b[0m",
      "\u001b[0;32m<__array_function__ internals>\u001b[0m in \u001b[0;36margmax\u001b[0;34m(*args, **kwargs)\u001b[0m\n",
      "\u001b[0;32m~/opt/anaconda3/lib/python3.7/site-packages/numpy/core/fromnumeric.py\u001b[0m in \u001b[0;36margmax\u001b[0;34m(a, axis, out)\u001b[0m\n\u001b[1;32m   1186\u001b[0m \u001b[0;34m\u001b[0m\u001b[0m\n\u001b[1;32m   1187\u001b[0m     \"\"\"\n\u001b[0;32m-> 1188\u001b[0;31m     \u001b[0;32mreturn\u001b[0m \u001b[0m_wrapfunc\u001b[0m\u001b[0;34m(\u001b[0m\u001b[0ma\u001b[0m\u001b[0;34m,\u001b[0m \u001b[0;34m'argmax'\u001b[0m\u001b[0;34m,\u001b[0m \u001b[0maxis\u001b[0m\u001b[0;34m=\u001b[0m\u001b[0maxis\u001b[0m\u001b[0;34m,\u001b[0m \u001b[0mout\u001b[0m\u001b[0;34m=\u001b[0m\u001b[0mout\u001b[0m\u001b[0;34m)\u001b[0m\u001b[0;34m\u001b[0m\u001b[0;34m\u001b[0m\u001b[0m\n\u001b[0m\u001b[1;32m   1189\u001b[0m \u001b[0;34m\u001b[0m\u001b[0m\n\u001b[1;32m   1190\u001b[0m \u001b[0;34m\u001b[0m\u001b[0m\n",
      "\u001b[0;32m~/opt/anaconda3/lib/python3.7/site-packages/numpy/core/fromnumeric.py\u001b[0m in \u001b[0;36m_wrapfunc\u001b[0;34m(obj, method, *args, **kwds)\u001b[0m\n\u001b[1;32m     53\u001b[0m     \u001b[0mbound\u001b[0m \u001b[0;34m=\u001b[0m \u001b[0mgetattr\u001b[0m\u001b[0;34m(\u001b[0m\u001b[0mobj\u001b[0m\u001b[0;34m,\u001b[0m \u001b[0mmethod\u001b[0m\u001b[0;34m,\u001b[0m \u001b[0;32mNone\u001b[0m\u001b[0;34m)\u001b[0m\u001b[0;34m\u001b[0m\u001b[0;34m\u001b[0m\u001b[0m\n\u001b[1;32m     54\u001b[0m     \u001b[0;32mif\u001b[0m \u001b[0mbound\u001b[0m \u001b[0;32mis\u001b[0m \u001b[0;32mNone\u001b[0m\u001b[0;34m:\u001b[0m\u001b[0;34m\u001b[0m\u001b[0;34m\u001b[0m\u001b[0m\n\u001b[0;32m---> 55\u001b[0;31m         \u001b[0;32mreturn\u001b[0m \u001b[0m_wrapit\u001b[0m\u001b[0;34m(\u001b[0m\u001b[0mobj\u001b[0m\u001b[0;34m,\u001b[0m \u001b[0mmethod\u001b[0m\u001b[0;34m,\u001b[0m \u001b[0;34m*\u001b[0m\u001b[0margs\u001b[0m\u001b[0;34m,\u001b[0m \u001b[0;34m**\u001b[0m\u001b[0mkwds\u001b[0m\u001b[0;34m)\u001b[0m\u001b[0;34m\u001b[0m\u001b[0;34m\u001b[0m\u001b[0m\n\u001b[0m\u001b[1;32m     56\u001b[0m \u001b[0;34m\u001b[0m\u001b[0m\n\u001b[1;32m     57\u001b[0m     \u001b[0;32mtry\u001b[0m\u001b[0;34m:\u001b[0m\u001b[0;34m\u001b[0m\u001b[0;34m\u001b[0m\u001b[0m\n",
      "\u001b[0;32m~/opt/anaconda3/lib/python3.7/site-packages/numpy/core/fromnumeric.py\u001b[0m in \u001b[0;36m_wrapit\u001b[0;34m(obj, method, *args, **kwds)\u001b[0m\n\u001b[1;32m     42\u001b[0m     \u001b[0;32mexcept\u001b[0m \u001b[0mAttributeError\u001b[0m\u001b[0;34m:\u001b[0m\u001b[0;34m\u001b[0m\u001b[0;34m\u001b[0m\u001b[0m\n\u001b[1;32m     43\u001b[0m         \u001b[0mwrap\u001b[0m \u001b[0;34m=\u001b[0m \u001b[0;32mNone\u001b[0m\u001b[0;34m\u001b[0m\u001b[0;34m\u001b[0m\u001b[0m\n\u001b[0;32m---> 44\u001b[0;31m     \u001b[0mresult\u001b[0m \u001b[0;34m=\u001b[0m \u001b[0mgetattr\u001b[0m\u001b[0;34m(\u001b[0m\u001b[0masarray\u001b[0m\u001b[0;34m(\u001b[0m\u001b[0mobj\u001b[0m\u001b[0;34m)\u001b[0m\u001b[0;34m,\u001b[0m \u001b[0mmethod\u001b[0m\u001b[0;34m)\u001b[0m\u001b[0;34m(\u001b[0m\u001b[0;34m*\u001b[0m\u001b[0margs\u001b[0m\u001b[0;34m,\u001b[0m \u001b[0;34m**\u001b[0m\u001b[0mkwds\u001b[0m\u001b[0;34m)\u001b[0m\u001b[0;34m\u001b[0m\u001b[0;34m\u001b[0m\u001b[0m\n\u001b[0m\u001b[1;32m     45\u001b[0m     \u001b[0;32mif\u001b[0m \u001b[0mwrap\u001b[0m\u001b[0;34m:\u001b[0m\u001b[0;34m\u001b[0m\u001b[0;34m\u001b[0m\u001b[0m\n\u001b[1;32m     46\u001b[0m         \u001b[0;32mif\u001b[0m \u001b[0;32mnot\u001b[0m \u001b[0misinstance\u001b[0m\u001b[0;34m(\u001b[0m\u001b[0mresult\u001b[0m\u001b[0;34m,\u001b[0m \u001b[0mmu\u001b[0m\u001b[0;34m.\u001b[0m\u001b[0mndarray\u001b[0m\u001b[0;34m)\u001b[0m\u001b[0;34m:\u001b[0m\u001b[0;34m\u001b[0m\u001b[0;34m\u001b[0m\u001b[0m\n",
      "\u001b[0;31mValueError\u001b[0m: attempt to get argmax of an empty sequence"
     ]
    }
   ],
   "source": [
    "# word_bank = [w for w in allwords if len(w) == len(word)]\n",
    "# np.random.shuffle(word_bank) # enables starting with random choice from all high entropy words\n",
    "# guess = word_bank[np.argmax([entropy(w) for w in word_bank])] #start guess\n",
    "\n",
    "word = 'crimp'\n",
    "wordle = Wordle(word)\n",
    "inferer = WordleInference(len(word), word_bank)\n",
    "for t in range(10):\n",
    "    print('\\nguess', t+1)\n",
    "    flags = wordle.verify(guess)\n",
    "    if wordle.solved:\n",
    "        print(f'solved word \"{guess}\" in {t+1} steps')\n",
    "        break\n",
    "\n",
    "    inferer.update_priors(guess, flags)\n",
    "    guess = inferer.next_guess()"
   ]
  },
  {
   "cell_type": "code",
   "execution_count": null,
   "metadata": {},
   "outputs": [],
   "source": []
  }
 ],
 "metadata": {
  "kernelspec": {
   "display_name": "Python 3",
   "language": "python",
   "name": "python3"
  },
  "language_info": {
   "codemirror_mode": {
    "name": "ipython",
    "version": 3
   },
   "file_extension": ".py",
   "mimetype": "text/x-python",
   "name": "python",
   "nbconvert_exporter": "python",
   "pygments_lexer": "ipython3",
   "version": "3.7.4"
  }
 },
 "nbformat": 4,
 "nbformat_minor": 4
}
