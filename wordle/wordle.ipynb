{
 "cells": [
  {
   "cell_type": "code",
   "execution_count": 1,
   "metadata": {
    "execution": {
     "iopub.execute_input": "2022-01-25T02:10:54.301029Z",
     "iopub.status.busy": "2022-01-25T02:10:54.300660Z",
     "iopub.status.idle": "2022-01-25T02:10:54.338241Z",
     "shell.execute_reply": "2022-01-25T02:10:54.336872Z",
     "shell.execute_reply.started": "2022-01-25T02:10:54.300982Z"
    }
   },
   "outputs": [],
   "source": [
    "## Not great, has names\n",
    "\n",
    "with open('words.txt', 'r') as f:\n",
    "    allwords = f.read().split()"
   ]
  },
  {
   "cell_type": "code",
   "execution_count": null,
   "metadata": {},
   "outputs": [],
   "source": [
    "import numpy as np\n",
    "\n",
    "ALLCAPS = {l:u for (l,u) in zip('abcdefghijklmnopqrstuvwxyz', 'ABCDEFGHIJKLMNOPQRSTUVWXYZ')}\n",
    "\n",
    "## BASIC HELPER FUNC\n",
    "def chunks(w):\n",
    "    return [e for e in w]\n",
    "\n",
    "def compare(w1, w2):\n",
    "    \"\"\"First round of comparing: positional comparison\"\"\"\n",
    "    return [a==b for (a,b) in zip(w1, w2)]\n",
    "\n",
    "def count_c(c, w):\n",
    "    \"\"\"counts characters in w (can be list or str)\"\"\"\n",
    "    return len([e for e in w if e==c])\n",
    "\n",
    "def has_valid_char(word, char_bank):\n",
    "    \"\"\"Check if word has chars found in char_bank\"\"\"\n",
    "    return len(set(word) - char_bank) == 0\n",
    "\n",
    "def is_unordered_sublist(sub, super_):\n",
    "    \"\"\"check if sub is contained in super_ (both iterables)\"\"\"\n",
    "    bools = []\n",
    "    for c in set(sub):\n",
    "        if c in super_ and count_c(c, sub) <= count_c(c, super_): # <= in case the priority_char added less than the actual word\n",
    "            bools.append(1)\n",
    "        else:\n",
    "            bools.append(0)\n",
    "            \n",
    "    return 0 not in bools\n",
    "\n",
    "## INFO THEORY\n",
    "def entropy(word):\n",
    "    \"\"\"Shannon Entropy of a string\"\"\"\n",
    "    prob_log_prob = []\n",
    "    for c in set(word):\n",
    "        p = count_c(c, word)/len(word)\n",
    "        prob_log_prob.append(p*np.log(p))\n",
    "    return -sum(prob_log_prob)"
   ]
  },
  {
   "cell_type": "markdown",
   "metadata": {},
   "source": [
    "# algorithm\n",
    "\n",
    "1. start with n-letter word with highest entropy\n",
    "Conditions:\n",
    "\n",
    "Given letter bank: if a word doesn't have a letter in the letter bank, reject\n",
    "\n",
    "Given prioirty letters: if a word doesn't have one, reject\n",
    "\n",
    "Given fixed positions: if a word doesn't have letters there, reject\n",
    "\n",
    "Data science questions:\n",
    "- are there any words for which it is very hard for this algorithm (or human) to guess within 6 tries?"
   ]
  },
  {
   "cell_type": "code",
   "execution_count": 100,
   "metadata": {
    "execution": {
     "iopub.execute_input": "2022-01-25T19:35:32.269053Z",
     "iopub.status.busy": "2022-01-25T19:35:32.268643Z",
     "iopub.status.idle": "2022-01-25T19:35:32.324463Z",
     "shell.execute_reply": "2022-01-25T19:35:32.320790Z",
     "shell.execute_reply.started": "2022-01-25T19:35:32.268991Z"
    }
   },
   "outputs": [],
   "source": [
    "class Wordle:\n",
    "    \"\"\"class to simulate Wordle\"\"\"\n",
    "    def __init__(self, word):\n",
    "        self.word = word\n",
    "        self.length = len(word)\n",
    "        self.history = [] # unused outside class\n",
    "        self.solved = False\n",
    "    \n",
    "    def show_flags(self, guess, flags):\n",
    "        \"\"\"print guess along with its flags side by side\"\"\"\n",
    "        for c in guess:\n",
    "                print(ALLCAPS[c], '', end='')\n",
    "        print()\n",
    "        for f in flags:\n",
    "            print(f, '', end='')\n",
    "    \n",
    "    def verify(self, guess):\n",
    "        \"\"\"Verify if guess is correct, and if not gives clues (Green, Yellow, Gray)\"\"\"\n",
    "        # include try/catch to make sure green letters are there? (not in game)\n",
    "        flags = []\n",
    "        c_encounter = {c:count_c(c, self.word) for c in set(self.word)}\n",
    "        if guess == self.word:\n",
    "            print('correct!')\n",
    "            flags = ['+' for i in range(self.length)]\n",
    "            self.solved = True\n",
    "            return\n",
    "        word2word = compare(guess, self.word)\n",
    "        for ix, b in enumerate(word2word):\n",
    "            char = guess[ix]\n",
    "            ## GREEN right character, right position\n",
    "            if b:\n",
    "                flags.append('+') #green\n",
    "                c_encounter[char] -= 1\n",
    "            else:\n",
    "                ## YELLOW right character, wrong position\n",
    "                ## accounts for character count. e.g., if character count of 1\n",
    "                ## and shown yellow flag, should be gray on its next encounter in the guess word\n",
    "                if char in self.word and c_encounter[char] > 0: \n",
    "                    flags.append('!') #yellow\n",
    "                    c_encounter[char] -= 1\n",
    "                ## GRAY no such character\n",
    "                else:\n",
    "                    flags.append('-')\n",
    "        \n",
    "        self.history.append(flags)\n",
    "        self.show_flags(guess, flags)\n",
    "        return flags\n",
    "    \n",
    "class WordleInference:\n",
    "    \"\"\"Contains features/inference data\"\"\"\n",
    "    def __init__(self, length, word_bank, truth):\n",
    "        self.optimal = ['_' for i in range(length)] # fixes green letters\n",
    "        self.word_bank = word_bank\n",
    "        self.priority_char = [] #accounts for repeated char (hence a list)\n",
    "        self.char_bank = {c for c in 'abcdefghijklmnopqrstuvwxyz'}\n",
    "#         self.null_opt =  ['_' for i in range(length)] # _____\n",
    "        self.candidate_hist = dict()\n",
    "        \n",
    "        #debugging\n",
    "        self.truth = truth #ground truth\n",
    "        \n",
    "    def update_priors(self, guess, flags):\n",
    "        \"\"\" Update inferred word features based on flags\n",
    "        theoretically like gradient descent\n",
    "        \"\"\"\n",
    "        priority_seen = set(self.priority_char) #Yellow characters seen from previous guess\n",
    "        for ix, (c, f) in enumerate(zip(guess, flags)):\n",
    "            if f == '+': # Green\n",
    "                self.optimal[ix] = c\n",
    "            elif f == '!' and c not in priority_seen: # Yellow\n",
    "                self.priority_char.append(c)\n",
    "            elif f == '-' and c not in self.priority_char + self.optimal: # Gray, second boolean for edge case\n",
    "                try:\n",
    "                    self.char_bank.remove(c)\n",
    "                except KeyError: # for duplicate absent letters\n",
    "                    pass\n",
    "        try:\n",
    "            if guess == self.truth:\n",
    "                print('update_priors: correct word removed')\n",
    "            self.word_bank.remove(guess)\n",
    "        except ValueError: #list.remove(x): x not in list TODO WHY IS THIS HAPPENING HERE\n",
    "            pass\n",
    "\n",
    "## DEBUGGING\n",
    "## if statements with prints\n",
    "    def next_guess(self, it=None): #it: debug iteration\n",
    "        \"\"\"Find most likely next guess based on updated priors in previous step\"\"\"\n",
    "        candidates = []\n",
    "        preferred_candidates = [] # for those with letters that match exactly\n",
    "        print(f'{self.truth} in word bank: {self.truth in self.word_bank}')\n",
    "#         self.temp_bank = []\n",
    "        word_bank = self.word_bank\n",
    "        for w in word_bank:\n",
    "#             self.temp_bank.append(w)\n",
    "            if w == self.truth:\n",
    "                print(f'{self.truth} in loop!')\n",
    "            ## skip words with gray letters\n",
    "            if not has_valid_char(w, self.char_bank):\n",
    "                if w == self.truth:\n",
    "                    print('has_valid_char: correct word removed', sorted(self.char_bank))\n",
    "                self.word_bank.remove(w)\n",
    "                continue\n",
    "            ## skip words without yellow letters\n",
    "            if not is_unordered_sublist(self.priority_char, w):\n",
    "                if w == self.truth:\n",
    "                    print('is_unordered_sublist: correct word removed', self.priority_char)\n",
    "                self.word_bank.remove(w)\n",
    "                continue\n",
    "            # compare these two variables to decide if candidate\n",
    "            fixed_char_count = 0 #number of green letters\n",
    "            w_sim_count = 0  # see if current word shares the above\n",
    "            \n",
    "            for ix, c in enumerate(self.optimal):\n",
    "                if c != '_':\n",
    "                    fixed_char_count += 1\n",
    "                    if w[ix] == c:\n",
    "                        \n",
    "                        w_sim_count += 1\n",
    "            if fixed_char_count == w_sim_count:\n",
    "                candidates.append(w)\n",
    "            else:\n",
    "\n",
    "                if w == self.truth:\n",
    "                    print('correct letters: correct word removed', self.optimal)\n",
    "                \n",
    "                self.word_bank.remove(w)\n",
    "                if len(candidates) == 0: #worst case scenario\n",
    "                    candidates.append(w)\n",
    "                    self.word_bank.append(w)\n",
    "                \n",
    "                \n",
    "        print(len(candidates), 'candidates left in iter | ')\n",
    "#         print('word banks same', set(temp_bank)==set(self.word_bank))\n",
    "        self.candidate_hist[it] = candidates\n",
    "        if len(candidates) == 0:\n",
    "            print(self.word_bank)\n",
    "        return candidates[np.argmax([entropy(w) for w in candidates])] "
   ]
  },
  {
   "cell_type": "code",
   "execution_count": 101,
   "metadata": {
    "execution": {
     "iopub.execute_input": "2022-01-25T19:35:32.802232Z",
     "iopub.status.busy": "2022-01-25T19:35:32.801917Z",
     "iopub.status.idle": "2022-01-25T19:35:33.361521Z",
     "shell.execute_reply": "2022-01-25T19:35:33.357628Z",
     "shell.execute_reply.started": "2022-01-25T19:35:32.802196Z"
    }
   },
   "outputs": [
    {
     "name": "stdout",
     "output_type": "stream",
     "text": [
      "\n",
      "guess 1\n",
      "P A C E D \n",
      "- - - - - knoll in word bank: True\n",
      "623 candidates left in iter | \n",
      "\n",
      "guess 2\n",
      "B I G H T \n",
      "- - - - - knoll in word bank: True\n",
      "86 candidates left in iter | \n",
      "\n",
      "guess 3\n",
      "F L O U R \n",
      "- ! + - - knoll in word bank: True\n",
      "knoll in loop!\n",
      "7 candidates left in iter | \n",
      "\n",
      "guess 4\n",
      "J O W L S \n",
      "- ! - + - knoll in word bank: True\n",
      "0 candidates left in iter | \n",
      "['abode', 'acrid', 'addle', 'aegis', 'aggro', 'aired', 'alibi', 'aloes', 'ambit', 'amour', 'animo', 'antic', 'apron', 'argue', 'arses', 'aspen', 'attic', 'avert', 'axles', 'baits', 'banco', 'bares', 'basis', 'baulk', 'beats', 'begin', 'bench', 'betts', 'bijou', 'binge', 'bitty', 'blaze', 'bliss', 'blown', 'blurt', 'boggy', 'bombs', 'bonus', 'booth', 'bosky', 'bowel', 'brads', 'braze', 'brigg', 'brits', 'bruin', 'buffs', 'bulls', 'buoys', 'burro', 'butyl', 'cabot', 'caked', 'canes', 'cares', 'carve', 'caved', 'ceorl', 'chart', 'chewy', 'chirp', 'chubb', 'cirri', 'clare', 'click', 'clops', 'clyde', 'cogit', 'comas', 'conga', 'coppa', 'corms', 'coven', 'crack', 'craws', 'crete', 'crony', 'crust', 'curae', 'cushy', 'dairy', 'dares', 'deals', 'decor', 'delay', 'dents', 'dials', 'dikes', 'direr', 'divvy', 'dolby', 'doone', 'dotty', 'doyle', 'drawn', 'drive', 'drury', 'dukes', 'dusts', 'eager', 'eclat', 'eider', 'elide', 'emcee', 'ennui', 'epsom', 'erupt', 'evade', 'exeat', 'fable', 'fairs', 'farce', 'favor', 'felix', 'ferro', 'fidei', 'files', 'finch', 'first', 'flack', 'flays', 'flits', 'flown', 'flunk', 'foggy', 'folly', 'forks', 'fouls', 'franc', 'fries', 'frost', 'fully', 'funny', 'fusel', 'gaels', 'gamma', 'gaunt', 'gelds', 'getup', 'gilds', 'giver', 'globe', 'gluon', 'gogol', 'goofy', 'gouty', 'graph', 'greve', 'grips', 'growl', 'guess', 'gumbo', 'gusty', 'hafts', 'halve', 'harks', 'hauls', 'heads', 'hefty', 'herbs', 'hiker', 'hippy', 'hokum', 'honks', 'hopes', 'hough', 'hulks', 'hunts', 'hussy', 'ibsen', 'idyll', 'imbue', 'infix', 'inuit', 'isbns', 'jaded', 'jaunt', 'jewel', 'jinni', 'jolly', 'judge', 'julys', 'jurat', 'karma', 'keith', 'khmer', 'kiosk', 'kneed', 'knoll', 'kooks', 'kudos', 'lades', 'lanai', 'larry', 'laves', 'learn', 'legem', 'lessa', 'libya', 'lilly', 'linda', 'lists', 'lleyn', 'locos', 'lolls', 'looms', 'loony', 'lotto', 'louts', 'lucas', 'lunar', 'lusty', 'lyons', 'magma', 'malta', 'manna', 'margt', 'masts', 'mayan', 'meats', 'mends', 'meted', 'midas', 'milky', 'minim', 'mires', 'mixer', 'moist', 'mommy', 'moons', 'mores', 'moths', 'mourn', 'muddy', 'mumbo', 'mushy', 'muzzy', 'naked', 'naves', 'nerdy', 'nicks', 'nisei', 'noise', 'noses', 'novus', 'nutty', 'obits', 'ogees', 'omaha', 'oozed', 'orion', 'outer', 'owing', 'padre', 'palsy', 'parch', 'passu', 'pause', 'pease', 'penal', 'perks', 'phial', 'piety', 'pinks', 'pitta', 'plats', 'plods', 'pocks', 'polka', 'pores', 'power', 'price', 'prize', 'prowl', 'pukka', 'pupil', 'pyres', 'queen', 'quint', 'quote', 'ragas', 'ranch', 'rated', 'react', 'recto', 'reich', 'rents', 'retry', 'ricks', 'rills', 'risks', 'roars', 'rolls', 'rooms', 'rosin', 'rover', 'ruffs', 'rummy', 'rural', 'sacci', 'sales', 'sandy', 'saucy', 'scale', 'scion', 'scows', 'seals', 'seems', 'sense', 'sewer', 'shame', 'sheba', 'shims', 'shits', 'shore', 'shrew', 'sibyl', 'sikhs', 'simon', 'sioux', 'sixty', 'skims', 'skulk', 'slant', 'slide', 'slogs', 'slows', 'slurs', 'smile', 'snaky', 'snook', 'snowy', 'softy', 'solum', 'sores', 'souls', 'spars', 'spews', 'spits', 'sprat', 'squib', 'stand', 'steep', 'still', 'stoma', 'stour', 'strut', 'style', 'sulks', 'sunny', 'sutra', 'swear', 'swing', 'sworn', 'table', 'talks', 'tanya', 'taste', 'teats', 'tench', 'tests', 'theta', 'three', 'tibia', 'tilth', 'tinny', 'tizzy', 'tombs', 'tooth', 'tosco', 'towyn', 'trash', 'trice', 'trips', 'trudy', 'tryst', 'tummy', 'turin', 'tweak', 'twits', 'tyson', 'uncut', 'unius', 'upset', 'usury', 'vamps', 'veldt', 'verse', 'views', 'vires', 'vitus', 'volts', 'vroom', 'waite', 'wants', 'waver', 'weeks', 'wetly', 'whims', 'whore', 'wills', 'winks', 'witch', 'wonky', 'works', 'worth', 'wrist', 'xenon', 'yawns', 'yolks', 'yoyos', 'zings']\n"
     ]
    },
    {
     "ename": "ValueError",
     "evalue": "attempt to get argmax of an empty sequence",
     "output_type": "error",
     "traceback": [
      "\u001b[0;31m---------------------------------------------------------------------------\u001b[0m",
      "\u001b[0;31mValueError\u001b[0m                                Traceback (most recent call last)",
      "\u001b[0;32m<ipython-input-101-ae7a1250b3f1>\u001b[0m in \u001b[0;36m<module>\u001b[0;34m\u001b[0m\n\u001b[1;32m     15\u001b[0m \u001b[0;34m\u001b[0m\u001b[0m\n\u001b[1;32m     16\u001b[0m     \u001b[0minferer\u001b[0m\u001b[0;34m.\u001b[0m\u001b[0mupdate_priors\u001b[0m\u001b[0;34m(\u001b[0m\u001b[0mguess\u001b[0m\u001b[0;34m,\u001b[0m \u001b[0mflags\u001b[0m\u001b[0;34m)\u001b[0m\u001b[0;34m\u001b[0m\u001b[0;34m\u001b[0m\u001b[0m\n\u001b[0;32m---> 17\u001b[0;31m     \u001b[0mguess\u001b[0m \u001b[0;34m=\u001b[0m \u001b[0minferer\u001b[0m\u001b[0;34m.\u001b[0m\u001b[0mnext_guess\u001b[0m\u001b[0;34m(\u001b[0m\u001b[0mt\u001b[0m\u001b[0;34m)\u001b[0m\u001b[0;34m\u001b[0m\u001b[0;34m\u001b[0m\u001b[0m\n\u001b[0m",
      "\u001b[0;32m<ipython-input-100-b53fbb380e23>\u001b[0m in \u001b[0;36mnext_guess\u001b[0;34m(self, it)\u001b[0m\n\u001b[1;32m    132\u001b[0m         \u001b[0;32mif\u001b[0m \u001b[0mlen\u001b[0m\u001b[0;34m(\u001b[0m\u001b[0mcandidates\u001b[0m\u001b[0;34m)\u001b[0m \u001b[0;34m==\u001b[0m \u001b[0;36m0\u001b[0m\u001b[0;34m:\u001b[0m\u001b[0;34m\u001b[0m\u001b[0;34m\u001b[0m\u001b[0m\n\u001b[1;32m    133\u001b[0m             \u001b[0mprint\u001b[0m\u001b[0;34m(\u001b[0m\u001b[0mself\u001b[0m\u001b[0;34m.\u001b[0m\u001b[0mword_bank\u001b[0m\u001b[0;34m)\u001b[0m\u001b[0;34m\u001b[0m\u001b[0;34m\u001b[0m\u001b[0m\n\u001b[0;32m--> 134\u001b[0;31m         \u001b[0;32mreturn\u001b[0m \u001b[0mcandidates\u001b[0m\u001b[0;34m[\u001b[0m\u001b[0mnp\u001b[0m\u001b[0;34m.\u001b[0m\u001b[0margmax\u001b[0m\u001b[0;34m(\u001b[0m\u001b[0;34m[\u001b[0m\u001b[0mentropy\u001b[0m\u001b[0;34m(\u001b[0m\u001b[0mw\u001b[0m\u001b[0;34m)\u001b[0m \u001b[0;32mfor\u001b[0m \u001b[0mw\u001b[0m \u001b[0;32min\u001b[0m \u001b[0mcandidates\u001b[0m\u001b[0;34m]\u001b[0m\u001b[0;34m)\u001b[0m\u001b[0;34m]\u001b[0m\u001b[0;34m\u001b[0m\u001b[0;34m\u001b[0m\u001b[0m\n\u001b[0m",
      "\u001b[0;32m<__array_function__ internals>\u001b[0m in \u001b[0;36margmax\u001b[0;34m(*args, **kwargs)\u001b[0m\n",
      "\u001b[0;32m~/opt/anaconda3/lib/python3.7/site-packages/numpy/core/fromnumeric.py\u001b[0m in \u001b[0;36margmax\u001b[0;34m(a, axis, out)\u001b[0m\n\u001b[1;32m   1186\u001b[0m \u001b[0;34m\u001b[0m\u001b[0m\n\u001b[1;32m   1187\u001b[0m     \"\"\"\n\u001b[0;32m-> 1188\u001b[0;31m     \u001b[0;32mreturn\u001b[0m \u001b[0m_wrapfunc\u001b[0m\u001b[0;34m(\u001b[0m\u001b[0ma\u001b[0m\u001b[0;34m,\u001b[0m \u001b[0;34m'argmax'\u001b[0m\u001b[0;34m,\u001b[0m \u001b[0maxis\u001b[0m\u001b[0;34m=\u001b[0m\u001b[0maxis\u001b[0m\u001b[0;34m,\u001b[0m \u001b[0mout\u001b[0m\u001b[0;34m=\u001b[0m\u001b[0mout\u001b[0m\u001b[0;34m)\u001b[0m\u001b[0;34m\u001b[0m\u001b[0;34m\u001b[0m\u001b[0m\n\u001b[0m\u001b[1;32m   1189\u001b[0m \u001b[0;34m\u001b[0m\u001b[0m\n\u001b[1;32m   1190\u001b[0m \u001b[0;34m\u001b[0m\u001b[0m\n",
      "\u001b[0;32m~/opt/anaconda3/lib/python3.7/site-packages/numpy/core/fromnumeric.py\u001b[0m in \u001b[0;36m_wrapfunc\u001b[0;34m(obj, method, *args, **kwds)\u001b[0m\n\u001b[1;32m     53\u001b[0m     \u001b[0mbound\u001b[0m \u001b[0;34m=\u001b[0m \u001b[0mgetattr\u001b[0m\u001b[0;34m(\u001b[0m\u001b[0mobj\u001b[0m\u001b[0;34m,\u001b[0m \u001b[0mmethod\u001b[0m\u001b[0;34m,\u001b[0m \u001b[0;32mNone\u001b[0m\u001b[0;34m)\u001b[0m\u001b[0;34m\u001b[0m\u001b[0;34m\u001b[0m\u001b[0m\n\u001b[1;32m     54\u001b[0m     \u001b[0;32mif\u001b[0m \u001b[0mbound\u001b[0m \u001b[0;32mis\u001b[0m \u001b[0;32mNone\u001b[0m\u001b[0;34m:\u001b[0m\u001b[0;34m\u001b[0m\u001b[0;34m\u001b[0m\u001b[0m\n\u001b[0;32m---> 55\u001b[0;31m         \u001b[0;32mreturn\u001b[0m \u001b[0m_wrapit\u001b[0m\u001b[0;34m(\u001b[0m\u001b[0mobj\u001b[0m\u001b[0;34m,\u001b[0m \u001b[0mmethod\u001b[0m\u001b[0;34m,\u001b[0m \u001b[0;34m*\u001b[0m\u001b[0margs\u001b[0m\u001b[0;34m,\u001b[0m \u001b[0;34m**\u001b[0m\u001b[0mkwds\u001b[0m\u001b[0;34m)\u001b[0m\u001b[0;34m\u001b[0m\u001b[0;34m\u001b[0m\u001b[0m\n\u001b[0m\u001b[1;32m     56\u001b[0m \u001b[0;34m\u001b[0m\u001b[0m\n\u001b[1;32m     57\u001b[0m     \u001b[0;32mtry\u001b[0m\u001b[0;34m:\u001b[0m\u001b[0;34m\u001b[0m\u001b[0;34m\u001b[0m\u001b[0m\n",
      "\u001b[0;32m~/opt/anaconda3/lib/python3.7/site-packages/numpy/core/fromnumeric.py\u001b[0m in \u001b[0;36m_wrapit\u001b[0;34m(obj, method, *args, **kwds)\u001b[0m\n\u001b[1;32m     42\u001b[0m     \u001b[0;32mexcept\u001b[0m \u001b[0mAttributeError\u001b[0m\u001b[0;34m:\u001b[0m\u001b[0;34m\u001b[0m\u001b[0;34m\u001b[0m\u001b[0m\n\u001b[1;32m     43\u001b[0m         \u001b[0mwrap\u001b[0m \u001b[0;34m=\u001b[0m \u001b[0;32mNone\u001b[0m\u001b[0;34m\u001b[0m\u001b[0;34m\u001b[0m\u001b[0m\n\u001b[0;32m---> 44\u001b[0;31m     \u001b[0mresult\u001b[0m \u001b[0;34m=\u001b[0m \u001b[0mgetattr\u001b[0m\u001b[0;34m(\u001b[0m\u001b[0masarray\u001b[0m\u001b[0;34m(\u001b[0m\u001b[0mobj\u001b[0m\u001b[0;34m)\u001b[0m\u001b[0;34m,\u001b[0m \u001b[0mmethod\u001b[0m\u001b[0;34m)\u001b[0m\u001b[0;34m(\u001b[0m\u001b[0;34m*\u001b[0m\u001b[0margs\u001b[0m\u001b[0;34m,\u001b[0m \u001b[0;34m**\u001b[0m\u001b[0mkwds\u001b[0m\u001b[0;34m)\u001b[0m\u001b[0;34m\u001b[0m\u001b[0;34m\u001b[0m\u001b[0m\n\u001b[0m\u001b[1;32m     45\u001b[0m     \u001b[0;32mif\u001b[0m \u001b[0mwrap\u001b[0m\u001b[0;34m:\u001b[0m\u001b[0;34m\u001b[0m\u001b[0;34m\u001b[0m\u001b[0m\n\u001b[1;32m     46\u001b[0m         \u001b[0;32mif\u001b[0m \u001b[0;32mnot\u001b[0m \u001b[0misinstance\u001b[0m\u001b[0;34m(\u001b[0m\u001b[0mresult\u001b[0m\u001b[0;34m,\u001b[0m \u001b[0mmu\u001b[0m\u001b[0;34m.\u001b[0m\u001b[0mndarray\u001b[0m\u001b[0;34m)\u001b[0m\u001b[0;34m:\u001b[0m\u001b[0;34m\u001b[0m\u001b[0;34m\u001b[0m\u001b[0m\n",
      "\u001b[0;31mValueError\u001b[0m: attempt to get argmax of an empty sequence"
     ]
    }
   ],
   "source": [
    "word = 'knoll'\n",
    "word_bank = [w for w in allwords if len(w) == len(word)]\n",
    "# np.random.shuffle(word_bank) # enables starting with random choice from all high entropy words\n",
    "# guess = word_bank[np.argmax([entropy(w) for w in word_bank])] #start guess\n",
    "# guess = 'baths'\n",
    "guess = 'paced'\n",
    "wordle = Wordle(word)\n",
    "inferer = WordleInference(len(word), word_bank, word)\n",
    "for t in range(10):\n",
    "    print('\\nguess', t+1)\n",
    "    flags = wordle.verify(guess)\n",
    "    if wordle.solved:\n",
    "        print(f'solved word \"{guess}\" in {t+1} steps')\n",
    "        break\n",
    "\n",
    "    inferer.update_priors(guess, flags)\n",
    "    guess = inferer.next_guess(t)"
   ]
  },
  {
   "cell_type": "code",
   "execution_count": 44,
   "metadata": {
    "execution": {
     "iopub.execute_input": "2022-01-25T02:44:25.302859Z",
     "iopub.status.busy": "2022-01-25T02:44:25.302333Z",
     "iopub.status.idle": "2022-01-25T02:44:25.314667Z",
     "shell.execute_reply": "2022-01-25T02:44:25.313375Z",
     "shell.execute_reply.started": "2022-01-25T02:44:25.302794Z"
    }
   },
   "outputs": [
    {
     "data": {
      "text/plain": [
       "['picky', 'chirp', 'crypt', 'crimp']"
      ]
     },
     "execution_count": 44,
     "metadata": {},
     "output_type": "execute_result"
    }
   ],
   "source": [
    "inferer.candidate_hist[1]"
   ]
  },
  {
   "cell_type": "code",
   "execution_count": 11,
   "metadata": {
    "execution": {
     "iopub.execute_input": "2022-01-25T02:20:22.901442Z",
     "iopub.status.busy": "2022-01-25T02:20:22.900710Z",
     "iopub.status.idle": "2022-01-25T02:20:22.915645Z",
     "shell.execute_reply": "2022-01-25T02:20:22.910152Z",
     "shell.execute_reply.started": "2022-01-25T02:20:22.901351Z"
    }
   },
   "outputs": [
    {
     "name": "stdout",
     "output_type": "stream",
     "text": [
      "1606 1605\n"
     ]
    }
   ],
   "source": [
    "print(len(printed_bank), len(inferer.word_bank))"
   ]
  }
 ],
 "metadata": {
  "kernelspec": {
   "display_name": "Python 3",
   "language": "python",
   "name": "python3"
  },
  "language_info": {
   "codemirror_mode": {
    "name": "ipython",
    "version": 3
   },
   "file_extension": ".py",
   "mimetype": "text/x-python",
   "name": "python",
   "nbconvert_exporter": "python",
   "pygments_lexer": "ipython3",
   "version": "3.7.4"
  }
 },
 "nbformat": 4,
 "nbformat_minor": 4
}
