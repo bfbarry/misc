{
 "cells": [
  {
   "cell_type": "code",
   "execution_count": 96,
   "metadata": {
    "execution": {
     "iopub.execute_input": "2022-01-23T19:23:30.474406Z",
     "iopub.status.busy": "2022-01-23T19:23:30.473788Z",
     "iopub.status.idle": "2022-01-23T19:23:30.504913Z",
     "shell.execute_reply": "2022-01-23T19:23:30.503140Z",
     "shell.execute_reply.started": "2022-01-23T19:23:30.474327Z"
    }
   },
   "outputs": [],
   "source": [
    "## Not great, has names\n",
    "\n",
    "with open('words.txt', 'r') as f:\n",
    "    allwords = f.read().split()"
   ]
  },
  {
   "cell_type": "code",
   "execution_count": 111,
   "metadata": {
    "execution": {
     "iopub.execute_input": "2022-01-23T19:46:16.847302Z",
     "iopub.status.busy": "2022-01-23T19:46:16.839826Z",
     "iopub.status.idle": "2022-01-23T19:46:16.907192Z",
     "shell.execute_reply": "2022-01-23T19:46:16.897642Z",
     "shell.execute_reply.started": "2022-01-23T19:46:16.847239Z"
    }
   },
   "outputs": [],
   "source": [
    "ALLCAPS = {l:u for (l,u) in zip('abcdefghijklmnopqrstuvwxyz', 'ABCDEFGHIJKLMNOPQRSTUVWXYZ')}\n",
    "\n",
    "def chunks(w):\n",
    "    return [e for e in w]\n",
    "\n",
    "def compare(w1, w2):\n",
    "    \"\"\"First round of comparing: positional comparison\"\"\"\n",
    "    return [a==b for (a,b) in zip(w1, w2)]\n",
    "\n",
    "def count_c(c, w):\n",
    "    return len([e for e in word if e==c])\n",
    "\n",
    "def show_flags(guess, flags):\n",
    "    \"\"\"print guess along with its flags side by side\"\"\"\n",
    "    for c in guess:\n",
    "            print(ALLCAPS[c], '', end='')\n",
    "    print('\\n')\n",
    "    for f in flags:\n",
    "        print(f, '', end='')\n",
    "    \n",
    "class Wordle:\n",
    "    def __init__(self, word):\n",
    "        self.word = word\n",
    "        self.length = len(word)\n",
    "        self.history = []\n",
    "        self.optimal = ['_' for i in range(self.length)]\n",
    "        self.char_bank = 'abcdefghijklmnopqrstuvwxyz'\n",
    "    \n",
    "    def verify(self, guess):\n",
    "        flags = []\n",
    "        if guess == self.word:\n",
    "            print('correct!')\n",
    "            flags = ['🟩' for i in range(self.length)]\n",
    "            return\n",
    "        word2word = compare(guess, self.word)\n",
    "        for ix, b in enumerate(word2word):\n",
    "            if b:\n",
    "                flags.append('🟩') #green\n",
    "                self.optimal[ix] == guess[ix]\n",
    "            else:\n",
    "                ## TODO need to account for character count. e.g., if character count of 1\n",
    "                ## and shown yellow flag, should be gray on its next encounter in the guess\n",
    "                if guess[ix] in self.word: \n",
    "                    flags.append('🟨') #yellow\n",
    "                else:\n",
    "                    flags.append('⬛️') #gray\n",
    "                    self.char_bank.replace(guess[ix],'')\n",
    "        \n",
    "        self.history.append(flags)\n",
    "        show_flags(guess, flags)\n",
    "        return flags"
   ]
  },
  {
   "cell_type": "code",
   "execution_count": 112,
   "metadata": {
    "execution": {
     "iopub.execute_input": "2022-01-23T19:46:17.266901Z",
     "iopub.status.busy": "2022-01-23T19:46:17.266371Z",
     "iopub.status.idle": "2022-01-23T19:46:17.278339Z",
     "shell.execute_reply": "2022-01-23T19:46:17.276082Z",
     "shell.execute_reply.started": "2022-01-23T19:46:17.266857Z"
    }
   },
   "outputs": [
    {
     "name": "stdout",
     "output_type": "stream",
     "text": [
      "F L O N I \n",
      "\n",
      "⬛️ ⬛️ ⬛️ ⬛️ 🟨 "
     ]
    },
    {
     "data": {
      "text/plain": [
       "['⬛️', '⬛️', '⬛️', '⬛️', '\\U0001f7e8']"
      ]
     },
     "execution_count": 112,
     "metadata": {},
     "output_type": "execute_result"
    }
   ],
   "source": [
    "word = 'crimp'\n",
    "x = Wordle(word)\n",
    "x.verify('floni')"
   ]
  },
  {
   "cell_type": "markdown",
   "metadata": {},
   "source": [
    "# algorithm\n",
    "\n",
    "1. start with n-letter word with highest entropy\n",
    "2. if green, fix position\n",
    "3. if yellow, switch position\n",
    "\n",
    "Data science questions:\n",
    "- are there any words for which it is very hard for this algorithm (or human) to guess within 6 tries?"
   ]
  },
  {
   "cell_type": "code",
   "execution_count": 130,
   "metadata": {
    "execution": {
     "iopub.execute_input": "2022-01-23T19:54:44.047905Z",
     "iopub.status.busy": "2022-01-23T19:54:44.047285Z",
     "iopub.status.idle": "2022-01-23T19:54:44.175392Z",
     "shell.execute_reply": "2022-01-23T19:54:44.169385Z",
     "shell.execute_reply.started": "2022-01-23T19:54:44.047826Z"
    }
   },
   "outputs": [],
   "source": [
    "import numpy as np\n",
    "\n",
    "def entropy(word):\n",
    "    prob_log_prob = []\n",
    "    for c in set(word):\n",
    "        p = count_c(c, word)/len(word)\n",
    "        prob_log_prob.append(p*np.log(p))\n",
    "    return -sum(prob_log_prob)\n",
    "\n",
    "bank = [w for w in allwords if len(w) == len(word)]\n",
    "\n",
    "start = bank[np.argmax([entropy(w) for w in bank])] # should start with random choice from all high entropy words\n",
    "for t in range(6):\n",
    "    "
   ]
  },
  {
   "cell_type": "code",
   "execution_count": 114,
   "metadata": {
    "execution": {
     "iopub.execute_input": "2022-01-23T19:47:08.877409Z",
     "iopub.status.busy": "2022-01-23T19:47:08.876819Z",
     "iopub.status.idle": "2022-01-23T19:47:09.429033Z",
     "shell.execute_reply": "2022-01-23T19:47:09.427611Z",
     "shell.execute_reply.started": "2022-01-23T19:47:08.877331Z"
    }
   },
   "outputs": [],
   "source": []
  },
  {
   "cell_type": "code",
   "execution_count": null,
   "metadata": {},
   "outputs": [],
   "source": []
  }
 ],
 "metadata": {
  "kernelspec": {
   "display_name": "Python 3",
   "language": "python",
   "name": "python3"
  },
  "language_info": {
   "codemirror_mode": {
    "name": "ipython",
    "version": 3
   },
   "file_extension": ".py",
   "mimetype": "text/x-python",
   "name": "python",
   "nbconvert_exporter": "python",
   "pygments_lexer": "ipython3",
   "version": "3.7.4"
  }
 },
 "nbformat": 4,
 "nbformat_minor": 4
}
